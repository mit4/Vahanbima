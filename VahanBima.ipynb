{
 "cells": [
  {
   "cell_type": "code",
   "execution_count": null,
   "id": "a3fd8743",
   "metadata": {},
   "outputs": [],
   "source": []
  },
  {
   "cell_type": "markdown",
   "id": "89a9d522",
   "metadata": {},
   "source": [
    "<center> <img src=\"https://www.goodreturns.in/img/2016/01/insuranceauto-25-1453703850.jpg\" /> </center>\n"
   ]
  },
  {
   "cell_type": "markdown",
   "id": "34806777",
   "metadata": {},
   "source": [
    "# Introduction"
   ]
  },
  {
   "cell_type": "markdown",
   "id": "f62b49ca",
   "metadata": {},
   "source": [
    "# Problem Statements"
   ]
  },
  {
   "cell_type": "markdown",
   "id": "beff67e3",
   "metadata": {},
   "source": [
    "VahanBima is one of the leading insurance companies in India. It provides motor vehicle insurances at best prices with 24/7 claim settlement.  It offers different types of policies for  both personal and commercial vehicles. It has established its brand across different regions in India. \n",
    "\n",
    "Around 90% of the businesses today use personalized services. The company wants to launch different personalized experience programs for customers of VahanBima. The personalized experience can be dedicated resources for claim settlement, different kinds of services at doorstep, etc. Inorder to do so, they would like to segment the customers into different tiers based on their customer lifetime value (CLTV).\n",
    "\n",
    "Inorder to do it, they would like to predict the customer lifetime value based on the activity and interaction of the customer with the platform. So, as a part of this challenge, your task at hand is to build a high performance and interpretable machine learning model to predict the CLTV based on the user and policy data."
   ]
  },
  {
   "cell_type": "markdown",
   "id": "f7fb7de2",
   "metadata": {},
   "source": [
    "# Data Description"
   ]
  },
  {
   "cell_type": "markdown",
   "id": "171bb38b",
   "metadata": {},
   "source": [
    "You are provided with the sample dataset of the company holding the information of customers and policy such as highest qualification of the user, total income earned by a customer in a year, employee status,  policy opted by the user, type of policy and so on and the target variable indicating the total customer lifetime value."
   ]
  },
  {
   "cell_type": "markdown",
   "id": "f1d52bf1",
   "metadata": {},
   "source": [
    "## Data Dictionary"
   ]
  },
  {
   "cell_type": "markdown",
   "id": "2afb5f93",
   "metadata": {},
   "source": [
    "You are provided with 3 files - train.csv, test.csv and sample_submission.csv\n"
   ]
  },
  {
   "cell_type": "markdown",
   "id": "6a2211c8",
   "metadata": {},
   "source": [
    "### Training Data "
   ]
  },
  {
   "cell_type": "markdown",
   "id": "99831e3b",
   "metadata": {},
   "source": [
    "You are provided with around 90K records containing the attributes of the user and policy and the target variable cltv indicating the total customer lifetime value.\n",
    "\n",
    "|Variable       |Description                                                |\n",
    "| ------------- |:-------------                                            :| \n",
    "|id             |Unique identifier of a customer                            |\n",
    "|gender         |Gender of the customer                                     |\n",
    "|area           |Area of the customer                                       |\n",
    "|qualification  |Highest Qualification of the customer                      |\n",
    "|income         |Income earned in a year (in rupees)                        |\n",
    "|marital_status |Marital Status of the customer {0:Single, 1: Married}      |\n",
    "|vintage        |No. of years since the first policy date                   |\n",
    "|claim_amount   |Total Amount Claimed by the customer (in rupees)           |\n",
    "|num_policies   |Total no. of policies issued by the customer               |\n",
    "|policy         |Active policy of the customer                              |\n",
    "|type_of_policy |Type of active policy                                      |\n",
    "|cltv           |Customer life time value (Target Variable)                 |\n",
    "\n"
   ]
  },
  {
   "cell_type": "markdown",
   "id": "ec1bebd6",
   "metadata": {},
   "source": [
    "# Importing Libraries"
   ]
  },
  {
   "cell_type": "code",
   "execution_count": 1,
   "id": "6e1a400b",
   "metadata": {},
   "outputs": [],
   "source": [
    "# For Numerical Python\n",
    "import numpy as np\n",
    "\n",
    "# For Panel Data Analysis\n",
    "import pandas as pd\n",
    "from pandas_profiling import ProfileReport\n",
    "pd.set_option('display.precision', 4)\n",
    "\n",
    "# For Data Visualization\n",
    "import matplotlib.pyplot as plt\n",
    "%matplotlib inline\n",
    "\n",
    "import seaborn as sns\n",
    "\n",
    "# To Disable Warnings\n",
    "import warnings\n",
    "warnings.filterwarnings(\"ignore\")"
   ]
  },
  {
   "cell_type": "code",
   "execution_count": 2,
   "id": "e5a756f4",
   "metadata": {},
   "outputs": [],
   "source": [
    "# For Data Model Development\n",
    "from sklearn.model_selection import train_test_split, cross_val_score, GridSearchCV\n",
    "from sklearn.linear_model import LinearRegression\n",
    "from sklearn.tree import DecisionTreeRegressor\n",
    "from sklearn.ensemble import RandomForestRegressor\n",
    "from xgboost import XGBRegressor\n",
    "from sklearn.preprocessing import StandardScaler, MinMaxScaler"
   ]
  },
  {
   "cell_type": "code",
   "execution_count": 3,
   "id": "91ff5386",
   "metadata": {},
   "outputs": [],
   "source": [
    "# For Machine Learning Model Evaluation\n",
    "from sklearn.metrics import mean_squared_error, mean_absolute_error, r2_score"
   ]
  },
  {
   "cell_type": "markdown",
   "id": "85f064e8",
   "metadata": {},
   "source": [
    "# Importing Data "
   ]
  },
  {
   "cell_type": "code",
   "execution_count": 4,
   "id": "5635f795",
   "metadata": {},
   "outputs": [],
   "source": [
    "data = pd.read_csv(\"train_BRCpofr.csv\")"
   ]
  },
  {
   "cell_type": "code",
   "execution_count": 5,
   "id": "b6511bc7",
   "metadata": {},
   "outputs": [
    {
     "data": {
      "text/html": [
       "<div>\n",
       "<style scoped>\n",
       "    .dataframe tbody tr th:only-of-type {\n",
       "        vertical-align: middle;\n",
       "    }\n",
       "\n",
       "    .dataframe tbody tr th {\n",
       "        vertical-align: top;\n",
       "    }\n",
       "\n",
       "    .dataframe thead th {\n",
       "        text-align: right;\n",
       "    }\n",
       "</style>\n",
       "<table border=\"1\" class=\"dataframe\">\n",
       "  <thead>\n",
       "    <tr style=\"text-align: right;\">\n",
       "      <th></th>\n",
       "      <th>id</th>\n",
       "      <th>gender</th>\n",
       "      <th>area</th>\n",
       "      <th>qualification</th>\n",
       "      <th>income</th>\n",
       "      <th>marital_status</th>\n",
       "      <th>vintage</th>\n",
       "      <th>claim_amount</th>\n",
       "      <th>num_policies</th>\n",
       "      <th>policy</th>\n",
       "      <th>type_of_policy</th>\n",
       "      <th>cltv</th>\n",
       "    </tr>\n",
       "  </thead>\n",
       "  <tbody>\n",
       "    <tr>\n",
       "      <th>0</th>\n",
       "      <td>1</td>\n",
       "      <td>Male</td>\n",
       "      <td>Urban</td>\n",
       "      <td>Bachelor</td>\n",
       "      <td>5L-10L</td>\n",
       "      <td>1</td>\n",
       "      <td>5</td>\n",
       "      <td>5790</td>\n",
       "      <td>More than 1</td>\n",
       "      <td>A</td>\n",
       "      <td>Platinum</td>\n",
       "      <td>64308</td>\n",
       "    </tr>\n",
       "    <tr>\n",
       "      <th>1</th>\n",
       "      <td>2</td>\n",
       "      <td>Male</td>\n",
       "      <td>Rural</td>\n",
       "      <td>High School</td>\n",
       "      <td>5L-10L</td>\n",
       "      <td>0</td>\n",
       "      <td>8</td>\n",
       "      <td>5080</td>\n",
       "      <td>More than 1</td>\n",
       "      <td>A</td>\n",
       "      <td>Platinum</td>\n",
       "      <td>515400</td>\n",
       "    </tr>\n",
       "    <tr>\n",
       "      <th>2</th>\n",
       "      <td>3</td>\n",
       "      <td>Male</td>\n",
       "      <td>Urban</td>\n",
       "      <td>Bachelor</td>\n",
       "      <td>5L-10L</td>\n",
       "      <td>1</td>\n",
       "      <td>8</td>\n",
       "      <td>2599</td>\n",
       "      <td>More than 1</td>\n",
       "      <td>A</td>\n",
       "      <td>Platinum</td>\n",
       "      <td>64212</td>\n",
       "    </tr>\n",
       "    <tr>\n",
       "      <th>3</th>\n",
       "      <td>4</td>\n",
       "      <td>Female</td>\n",
       "      <td>Rural</td>\n",
       "      <td>High School</td>\n",
       "      <td>5L-10L</td>\n",
       "      <td>0</td>\n",
       "      <td>7</td>\n",
       "      <td>0</td>\n",
       "      <td>More than 1</td>\n",
       "      <td>A</td>\n",
       "      <td>Platinum</td>\n",
       "      <td>97920</td>\n",
       "    </tr>\n",
       "    <tr>\n",
       "      <th>4</th>\n",
       "      <td>5</td>\n",
       "      <td>Male</td>\n",
       "      <td>Urban</td>\n",
       "      <td>High School</td>\n",
       "      <td>More than 10L</td>\n",
       "      <td>1</td>\n",
       "      <td>6</td>\n",
       "      <td>3508</td>\n",
       "      <td>More than 1</td>\n",
       "      <td>A</td>\n",
       "      <td>Gold</td>\n",
       "      <td>59736</td>\n",
       "    </tr>\n",
       "    <tr>\n",
       "      <th>5</th>\n",
       "      <td>6</td>\n",
       "      <td>Male</td>\n",
       "      <td>Rural</td>\n",
       "      <td>High School</td>\n",
       "      <td>More than 10L</td>\n",
       "      <td>1</td>\n",
       "      <td>1</td>\n",
       "      <td>0</td>\n",
       "      <td>1</td>\n",
       "      <td>C</td>\n",
       "      <td>Gold</td>\n",
       "      <td>348768</td>\n",
       "    </tr>\n",
       "    <tr>\n",
       "      <th>6</th>\n",
       "      <td>7</td>\n",
       "      <td>Female</td>\n",
       "      <td>Rural</td>\n",
       "      <td>Bachelor</td>\n",
       "      <td>5L-10L</td>\n",
       "      <td>1</td>\n",
       "      <td>6</td>\n",
       "      <td>0</td>\n",
       "      <td>More than 1</td>\n",
       "      <td>A</td>\n",
       "      <td>Gold</td>\n",
       "      <td>238920</td>\n",
       "    </tr>\n",
       "    <tr>\n",
       "      <th>7</th>\n",
       "      <td>8</td>\n",
       "      <td>Female</td>\n",
       "      <td>Urban</td>\n",
       "      <td>High School</td>\n",
       "      <td>5L-10L</td>\n",
       "      <td>0</td>\n",
       "      <td>0</td>\n",
       "      <td>5473</td>\n",
       "      <td>More than 1</td>\n",
       "      <td>A</td>\n",
       "      <td>Silver</td>\n",
       "      <td>64128</td>\n",
       "    </tr>\n",
       "    <tr>\n",
       "      <th>8</th>\n",
       "      <td>9</td>\n",
       "      <td>Female</td>\n",
       "      <td>Urban</td>\n",
       "      <td>High School</td>\n",
       "      <td>5L-10L</td>\n",
       "      <td>1</td>\n",
       "      <td>3</td>\n",
       "      <td>6105</td>\n",
       "      <td>More than 1</td>\n",
       "      <td>A</td>\n",
       "      <td>Gold</td>\n",
       "      <td>94536</td>\n",
       "    </tr>\n",
       "    <tr>\n",
       "      <th>9</th>\n",
       "      <td>10</td>\n",
       "      <td>Male</td>\n",
       "      <td>Rural</td>\n",
       "      <td>High School</td>\n",
       "      <td>More than 10L</td>\n",
       "      <td>1</td>\n",
       "      <td>6</td>\n",
       "      <td>0</td>\n",
       "      <td>More than 1</td>\n",
       "      <td>A</td>\n",
       "      <td>Platinum</td>\n",
       "      <td>99060</td>\n",
       "    </tr>\n",
       "  </tbody>\n",
       "</table>\n",
       "</div>"
      ],
      "text/plain": [
       "   id  gender   area qualification         income  marital_status  vintage  \\\n",
       "0   1    Male  Urban      Bachelor         5L-10L               1        5   \n",
       "1   2    Male  Rural   High School         5L-10L               0        8   \n",
       "2   3    Male  Urban      Bachelor         5L-10L               1        8   \n",
       "3   4  Female  Rural   High School         5L-10L               0        7   \n",
       "4   5    Male  Urban   High School  More than 10L               1        6   \n",
       "5   6    Male  Rural   High School  More than 10L               1        1   \n",
       "6   7  Female  Rural      Bachelor         5L-10L               1        6   \n",
       "7   8  Female  Urban   High School         5L-10L               0        0   \n",
       "8   9  Female  Urban   High School         5L-10L               1        3   \n",
       "9  10    Male  Rural   High School  More than 10L               1        6   \n",
       "\n",
       "   claim_amount num_policies policy type_of_policy    cltv  \n",
       "0          5790  More than 1      A       Platinum   64308  \n",
       "1          5080  More than 1      A       Platinum  515400  \n",
       "2          2599  More than 1      A       Platinum   64212  \n",
       "3             0  More than 1      A       Platinum   97920  \n",
       "4          3508  More than 1      A           Gold   59736  \n",
       "5             0            1      C           Gold  348768  \n",
       "6             0  More than 1      A           Gold  238920  \n",
       "7          5473  More than 1      A         Silver   64128  \n",
       "8          6105  More than 1      A           Gold   94536  \n",
       "9             0  More than 1      A       Platinum   99060  "
      ]
     },
     "execution_count": 5,
     "metadata": {},
     "output_type": "execute_result"
    }
   ],
   "source": [
    "data.head(10)\n"
   ]
  },
  {
   "cell_type": "code",
   "execution_count": 6,
   "id": "a4a85cea",
   "metadata": {},
   "outputs": [
    {
     "data": {
      "text/plain": [
       "(89392, 12)"
      ]
     },
     "execution_count": 6,
     "metadata": {},
     "output_type": "execute_result"
    }
   ],
   "source": [
    "data.shape"
   ]
  },
  {
   "cell_type": "code",
   "execution_count": 7,
   "id": "02a9ac67",
   "metadata": {},
   "outputs": [
    {
     "name": "stdout",
     "output_type": "stream",
     "text": [
      "<class 'pandas.core.frame.DataFrame'>\n",
      "RangeIndex: 89392 entries, 0 to 89391\n",
      "Data columns (total 12 columns):\n",
      " #   Column          Non-Null Count  Dtype \n",
      "---  ------          --------------  ----- \n",
      " 0   id              89392 non-null  int64 \n",
      " 1   gender          89392 non-null  object\n",
      " 2   area            89392 non-null  object\n",
      " 3   qualification   89392 non-null  object\n",
      " 4   income          89392 non-null  object\n",
      " 5   marital_status  89392 non-null  int64 \n",
      " 6   vintage         89392 non-null  int64 \n",
      " 7   claim_amount    89392 non-null  int64 \n",
      " 8   num_policies    89392 non-null  object\n",
      " 9   policy          89392 non-null  object\n",
      " 10  type_of_policy  89392 non-null  object\n",
      " 11  cltv            89392 non-null  int64 \n",
      "dtypes: int64(5), object(7)\n",
      "memory usage: 8.2+ MB\n"
     ]
    }
   ],
   "source": [
    "data.info()"
   ]
  },
  {
   "cell_type": "code",
   "execution_count": null,
   "id": "d4c22f65",
   "metadata": {},
   "outputs": [],
   "source": []
  },
  {
   "cell_type": "code",
   "execution_count": 8,
   "id": "21f4d074",
   "metadata": {},
   "outputs": [
    {
     "data": {
      "text/html": [
       "<div>\n",
       "<style scoped>\n",
       "    .dataframe tbody tr th:only-of-type {\n",
       "        vertical-align: middle;\n",
       "    }\n",
       "\n",
       "    .dataframe tbody tr th {\n",
       "        vertical-align: top;\n",
       "    }\n",
       "\n",
       "    .dataframe thead th {\n",
       "        text-align: right;\n",
       "    }\n",
       "</style>\n",
       "<table border=\"1\" class=\"dataframe\">\n",
       "  <thead>\n",
       "    <tr style=\"text-align: right;\">\n",
       "      <th></th>\n",
       "      <th>id</th>\n",
       "      <th>marital_status</th>\n",
       "      <th>vintage</th>\n",
       "      <th>claim_amount</th>\n",
       "      <th>cltv</th>\n",
       "    </tr>\n",
       "  </thead>\n",
       "  <tbody>\n",
       "    <tr>\n",
       "      <th>count</th>\n",
       "      <td>89392.000</td>\n",
       "      <td>89392.0000</td>\n",
       "      <td>89392.0000</td>\n",
       "      <td>89392.0000</td>\n",
       "      <td>89392.0000</td>\n",
       "    </tr>\n",
       "    <tr>\n",
       "      <th>mean</th>\n",
       "      <td>44696.500</td>\n",
       "      <td>0.5755</td>\n",
       "      <td>4.5957</td>\n",
       "      <td>4351.5024</td>\n",
       "      <td>97952.8290</td>\n",
       "    </tr>\n",
       "    <tr>\n",
       "      <th>std</th>\n",
       "      <td>25805.392</td>\n",
       "      <td>0.4943</td>\n",
       "      <td>2.2904</td>\n",
       "      <td>3262.3598</td>\n",
       "      <td>90613.8148</td>\n",
       "    </tr>\n",
       "    <tr>\n",
       "      <th>min</th>\n",
       "      <td>1.000</td>\n",
       "      <td>0.0000</td>\n",
       "      <td>0.0000</td>\n",
       "      <td>0.0000</td>\n",
       "      <td>24828.0000</td>\n",
       "    </tr>\n",
       "    <tr>\n",
       "      <th>25%</th>\n",
       "      <td>22348.750</td>\n",
       "      <td>0.0000</td>\n",
       "      <td>3.0000</td>\n",
       "      <td>2406.0000</td>\n",
       "      <td>52836.0000</td>\n",
       "    </tr>\n",
       "    <tr>\n",
       "      <th>50%</th>\n",
       "      <td>44696.500</td>\n",
       "      <td>1.0000</td>\n",
       "      <td>5.0000</td>\n",
       "      <td>4089.0000</td>\n",
       "      <td>66396.0000</td>\n",
       "    </tr>\n",
       "    <tr>\n",
       "      <th>75%</th>\n",
       "      <td>67044.250</td>\n",
       "      <td>1.0000</td>\n",
       "      <td>6.0000</td>\n",
       "      <td>6094.0000</td>\n",
       "      <td>103440.0000</td>\n",
       "    </tr>\n",
       "    <tr>\n",
       "      <th>max</th>\n",
       "      <td>89392.000</td>\n",
       "      <td>1.0000</td>\n",
       "      <td>8.0000</td>\n",
       "      <td>31894.0000</td>\n",
       "      <td>724068.0000</td>\n",
       "    </tr>\n",
       "  </tbody>\n",
       "</table>\n",
       "</div>"
      ],
      "text/plain": [
       "              id  marital_status     vintage  claim_amount         cltv\n",
       "count  89392.000      89392.0000  89392.0000    89392.0000   89392.0000\n",
       "mean   44696.500          0.5755      4.5957     4351.5024   97952.8290\n",
       "std    25805.392          0.4943      2.2904     3262.3598   90613.8148\n",
       "min        1.000          0.0000      0.0000        0.0000   24828.0000\n",
       "25%    22348.750          0.0000      3.0000     2406.0000   52836.0000\n",
       "50%    44696.500          1.0000      5.0000     4089.0000   66396.0000\n",
       "75%    67044.250          1.0000      6.0000     6094.0000  103440.0000\n",
       "max    89392.000          1.0000      8.0000    31894.0000  724068.0000"
      ]
     },
     "execution_count": 8,
     "metadata": {},
     "output_type": "execute_result"
    }
   ],
   "source": [
    "data.describe()"
   ]
  },
  {
   "cell_type": "markdown",
   "id": "495b4095",
   "metadata": {},
   "source": [
    "- No missing data and duplicate entries"
   ]
  },
  {
   "cell_type": "markdown",
   "id": "f4b134ed",
   "metadata": {},
   "source": [
    "### Observations"
   ]
  },
  {
   "cell_type": "markdown",
   "id": "99f903a7",
   "metadata": {},
   "source": [
    "#### - 89392 observations in data and no missing entries\n",
    " "
   ]
  },
  {
   "cell_type": "code",
   "execution_count": 9,
   "id": "2ef5e7fc",
   "metadata": {},
   "outputs": [
    {
     "data": {
      "text/plain": [
       "5L-10L           52716\n",
       "2L-5L            21158\n",
       "More than 10L    13664\n",
       "<=2L              1854\n",
       "Name: income, dtype: int64"
      ]
     },
     "execution_count": 9,
     "metadata": {},
     "output_type": "execute_result"
    }
   ],
   "source": [
    "data['income'].value_counts()\n"
   ]
  },
  {
   "cell_type": "code",
   "execution_count": 10,
   "id": "8b3bac47",
   "metadata": {},
   "outputs": [
    {
     "data": {
      "text/plain": [
       "High School    46247\n",
       "Bachelor       39399\n",
       "Others          3746\n",
       "Name: qualification, dtype: int64"
      ]
     },
     "execution_count": 10,
     "metadata": {},
     "output_type": "execute_result"
    }
   ],
   "source": [
    "data['qualification'].value_counts()"
   ]
  },
  {
   "cell_type": "code",
   "execution_count": 11,
   "id": "f285686b",
   "metadata": {},
   "outputs": [
    {
     "data": {
      "text/plain": [
       "Urban    62455\n",
       "Rural    26937\n",
       "Name: area, dtype: int64"
      ]
     },
     "execution_count": 11,
     "metadata": {},
     "output_type": "execute_result"
    }
   ],
   "source": [
    "data['area'].value_counts()"
   ]
  },
  {
   "cell_type": "code",
   "execution_count": 12,
   "id": "7ccd332c",
   "metadata": {},
   "outputs": [
    {
     "data": {
      "text/plain": [
       "6    17769\n",
       "7    13095\n",
       "5    12481\n",
       "4    10471\n",
       "2     9165\n",
       "1     7671\n",
       "8     7624\n",
       "3     7085\n",
       "0     4031\n",
       "Name: vintage, dtype: int64"
      ]
     },
     "execution_count": 12,
     "metadata": {},
     "output_type": "execute_result"
    }
   ],
   "source": [
    "data['vintage'].value_counts()"
   ]
  },
  {
   "cell_type": "code",
   "execution_count": 13,
   "id": "c11992db",
   "metadata": {},
   "outputs": [
    {
     "data": {
      "text/plain": [
       "More than 1    60263\n",
       "1              29129\n",
       "Name: num_policies, dtype: int64"
      ]
     },
     "execution_count": 13,
     "metadata": {},
     "output_type": "execute_result"
    }
   ],
   "source": [
    "data['num_policies'].value_counts()"
   ]
  },
  {
   "cell_type": "code",
   "execution_count": 14,
   "id": "8c3b080a",
   "metadata": {},
   "outputs": [
    {
     "data": {
      "text/plain": [
       "A    56644\n",
       "B    24635\n",
       "C     8113\n",
       "Name: policy, dtype: int64"
      ]
     },
     "execution_count": 14,
     "metadata": {},
     "output_type": "execute_result"
    }
   ],
   "source": [
    "data['policy'].value_counts()"
   ]
  },
  {
   "cell_type": "code",
   "execution_count": 15,
   "id": "35ddd8f9",
   "metadata": {},
   "outputs": [
    {
     "data": {
      "text/plain": [
       "Platinum    47796\n",
       "Silver      21010\n",
       "Gold        20586\n",
       "Name: type_of_policy, dtype: int64"
      ]
     },
     "execution_count": 15,
     "metadata": {},
     "output_type": "execute_result"
    }
   ],
   "source": [
    "data['type_of_policy'].value_counts()"
   ]
  },
  {
   "cell_type": "code",
   "execution_count": 16,
   "id": "26ffbb99",
   "metadata": {},
   "outputs": [
    {
     "data": {
      "image/png": "[encoded data removed]",
      "text/plain": [
       "<Figure size 360x360 with 1 Axes>"
      ]
     },
     "metadata": {
      "needs_background": "light"
     },
     "output_type": "display_data"
    }
   ],
   "source": [
    "sns.displot(data.vintage)\n",
    "plt.axvline(data.vintage.mean(), color='r')\n",
    "plt.axvline(data.vintage.median(), color='m')\n",
    "plt.show()"
   ]
  },
  {
   "cell_type": "code",
   "execution_count": 17,
   "id": "7683b238",
   "metadata": {},
   "outputs": [],
   "source": [
    "#from pandas_profiling import ProfileReport \n",
    "#profile = ProfileReport(df=data)\n",
    "#profile.to_file(output_file='Pre Profiling Report.html')\n",
    "#print('Accomplished!')"
   ]
  },
  {
   "cell_type": "markdown",
   "id": "0359394c",
   "metadata": {},
   "source": [
    "### Observations\n",
    " \n",
    "- Total 89392 observations and 12 columns in data. **No Missing** values in data.\n",
    "- Of 12 columns **8 catagorical and 4 numerical columns**.\n",
    "- 56-44 Male-Female ratio customer.\n",
    "- **Majority(70%)** of customers are from **Urban** `area`.\n",
    "- **59%** customers are in **5L-10L Income** slab, then **23% in 2L-5L** slab.\n",
    "- **57%** customers are married.\n",
    "- **20%** customers have **claimed  nothing**.\n",
    "- **Claimed amount** column have **positive skewness** of 1. 95th percentile is 10078 and max value is 31894 suggesting **there are some outliers**.\n",
    "- **67.4%** customers have **more than 1 policy**.\n",
    "- **63.4%** customers have **A poicy** followed by **27.6** have **B policy**.\n",
    "- **Platnum policy type** have **maximum(53.5%)** distribution in data set. Other two types have equal distribution.\n",
    "- `CLTV` has **mean 97952** and **median 66396**\n",
    "    - kewness is **2.75** suggesting data is little bit skewed.\n",
    "    - he 95th percentile is 307265 and maximum value is 724068.\n",
    "- There is some **correlation** between\n",
    "    - Area and claim amount**.\n",
    "    - CLTV and No. of policies**.\n",
    " "
   ]
  },
  {
   "cell_type": "code",
   "execution_count": null,
   "id": "c810131a",
   "metadata": {},
   "outputs": [],
   "source": []
  },
  {
   "cell_type": "code",
   "execution_count": 18,
   "id": "4a27a787",
   "metadata": {},
   "outputs": [
    {
     "data": {
      "text/plain": [
       "<AxesSubplot:>"
      ]
     },
     "execution_count": 18,
     "metadata": {},
     "output_type": "execute_result"
    },
    {
     "data": {
      "image/png": "[encoded data removed]",
      "text/plain": [
       "<Figure size 432x288 with 2 Axes>"
      ]
     },
     "metadata": {
      "needs_background": "light"
     },
     "output_type": "display_data"
    }
   ],
   "source": [
    "sns.heatmap(data.corr(), annot=True, cmap='viridis')"
   ]
  },
  {
   "cell_type": "markdown",
   "id": "b53af918",
   "metadata": {},
   "source": [
    "##  relation between cltv and claim amount?"
   ]
  },
  {
   "cell_type": "markdown",
   "id": "7cec6900",
   "metadata": {},
   "source": [
    "## vintage , cltv and policy\n"
   ]
  },
  {
   "cell_type": "code",
   "execution_count": null,
   "id": "061bdb20",
   "metadata": {},
   "outputs": [],
   "source": [
    "\n"
   ]
  },
  {
   "cell_type": "markdown",
   "id": "57dbfe5a",
   "metadata": {},
   "source": [
    "- **20%** customers had their **first policy 6 years ago.** "
   ]
  },
  {
   "cell_type": "markdown",
   "id": "2b54dee6",
   "metadata": {},
   "source": [
    "## Feature Extraction\n"
   ]
  },
  {
   "cell_type": "markdown",
   "id": "e00e6c95",
   "metadata": {},
   "source": [
    "- Claim amount column have outlier and column is skewed. Many entries are 0(claimed nothing). \n",
    "- onvert claim amount column to catagorical column of 4 bins."
   ]
  },
  {
   "cell_type": "code",
   "execution_count": 19,
   "id": "51bb71cb",
   "metadata": {},
   "outputs": [
    {
     "data": {
      "text/plain": [
       "75791.43296927169"
      ]
     },
     "execution_count": 19,
     "metadata": {},
     "output_type": "execute_result"
    }
   ],
   "source": [
    "data[data['claim_amount']==0]['cltv'].mean()"
   ]
  },
  {
   "cell_type": "code",
   "execution_count": 20,
   "id": "7e1a22e1",
   "metadata": {},
   "outputs": [
    {
     "data": {
      "text/plain": [
       "6    17769\n",
       "7    13095\n",
       "5    12481\n",
       "4    10471\n",
       "2     9165\n",
       "1     7671\n",
       "8     7624\n",
       "3     7085\n",
       "0     4031\n",
       "Name: vintage, dtype: int64"
      ]
     },
     "execution_count": 20,
     "metadata": {},
     "output_type": "execute_result"
    }
   ],
   "source": [
    "data['vintage'].value_counts()"
   ]
  },
  {
   "cell_type": "code",
   "execution_count": 21,
   "id": "507c23f7",
   "metadata": {},
   "outputs": [
    {
     "data": {
      "text/plain": [
       "vintage\n",
       "0     86972.7016\n",
       "1     92467.9312\n",
       "2     99822.9840\n",
       "3    104415.6584\n",
       "4     98144.8885\n",
       "5     96148.5775\n",
       "6     97614.3373\n",
       "7     98412.7239\n",
       "8    103711.8227\n",
       "Name: cltv, dtype: float64"
      ]
     },
     "execution_count": 21,
     "metadata": {},
     "output_type": "execute_result"
    }
   ],
   "source": [
    "data.groupby(by='vintage').mean()['cltv']"
   ]
  },
  {
   "cell_type": "code",
   "execution_count": 22,
   "id": "08ec3338",
   "metadata": {},
   "outputs": [
    {
     "data": {
      "text/plain": [
       "(89392, 12)"
      ]
     },
     "execution_count": 22,
     "metadata": {},
     "output_type": "execute_result"
    }
   ],
   "source": [
    "data.shape\n"
   ]
  },
  {
   "cell_type": "code",
   "execution_count": 23,
   "id": "2a3f712b",
   "metadata": {},
   "outputs": [],
   "source": [
    "def per_year(num,den):    \n",
    "    p=[]\n",
    "    for i in range(len(num)):\n",
    "        if den[i] != 0:\n",
    "            a = num[i] / den[i]\n",
    "            p.append(a)\n",
    "        else:\n",
    "            p.append(0)\n",
    "    return p\n"
   ]
  },
  {
   "cell_type": "markdown",
   "id": "4543b9a2",
   "metadata": {},
   "source": [
    "Creating new feature for claim amount per year."
   ]
  },
  {
   "cell_type": "code",
   "execution_count": 24,
   "id": "4cefc9ba",
   "metadata": {},
   "outputs": [],
   "source": [
    "data['claim_per_year'] = per_year(data.claim_amount,data.vintage)"
   ]
  },
  {
   "cell_type": "code",
   "execution_count": 25,
   "id": "2414d10d",
   "metadata": {},
   "outputs": [
    {
     "data": {
      "text/plain": [
       "23697.0"
      ]
     },
     "execution_count": 25,
     "metadata": {},
     "output_type": "execute_result"
    }
   ],
   "source": [
    "data['claim_per_year'].max()"
   ]
  },
  {
   "cell_type": "code",
   "execution_count": null,
   "id": "d2e0a5e2",
   "metadata": {},
   "outputs": [],
   "source": []
  },
  {
   "cell_type": "code",
   "execution_count": 30,
   "id": "718ff86f",
   "metadata": {},
   "outputs": [],
   "source": [
    "bins =[-1,6000,12000,18000,24000]\n",
    "\n",
    "data[\"claim_cat\"] = pd.cut(data.claim_per_year, bins=bins, labels=['1','2','3','4'])\n"
   ]
  },
  {
   "cell_type": "code",
   "execution_count": 31,
   "id": "3f0552ef",
   "metadata": {},
   "outputs": [
    {
     "data": {
      "text/plain": [
       "1    87154\n",
       "2     2073\n",
       "3      152\n",
       "4       13\n",
       "Name: claim_cat, dtype: int64"
      ]
     },
     "execution_count": 31,
     "metadata": {},
     "output_type": "execute_result"
    }
   ],
   "source": [
    "data.claim_cat.value_counts()"
   ]
  },
  {
   "cell_type": "code",
   "execution_count": 32,
   "id": "f10f7ee7",
   "metadata": {},
   "outputs": [
    {
     "data": {
      "text/html": [
       "<div>\n",
       "<style scoped>\n",
       "    .dataframe tbody tr th:only-of-type {\n",
       "        vertical-align: middle;\n",
       "    }\n",
       "\n",
       "    .dataframe tbody tr th {\n",
       "        vertical-align: top;\n",
       "    }\n",
       "\n",
       "    .dataframe thead th {\n",
       "        text-align: right;\n",
       "    }\n",
       "</style>\n",
       "<table border=\"1\" class=\"dataframe\">\n",
       "  <thead>\n",
       "    <tr style=\"text-align: right;\">\n",
       "      <th></th>\n",
       "      <th>id</th>\n",
       "      <th>gender</th>\n",
       "      <th>area</th>\n",
       "      <th>qualification</th>\n",
       "      <th>income</th>\n",
       "      <th>marital_status</th>\n",
       "      <th>vintage</th>\n",
       "      <th>claim_amount</th>\n",
       "      <th>num_policies</th>\n",
       "      <th>policy</th>\n",
       "      <th>type_of_policy</th>\n",
       "      <th>cltv</th>\n",
       "      <th>claim_per_year</th>\n",
       "      <th>claim_cat</th>\n",
       "    </tr>\n",
       "  </thead>\n",
       "  <tbody>\n",
       "    <tr>\n",
       "      <th>0</th>\n",
       "      <td>1</td>\n",
       "      <td>Male</td>\n",
       "      <td>Urban</td>\n",
       "      <td>Bachelor</td>\n",
       "      <td>5L-10L</td>\n",
       "      <td>1</td>\n",
       "      <td>5</td>\n",
       "      <td>5790</td>\n",
       "      <td>More than 1</td>\n",
       "      <td>A</td>\n",
       "      <td>Platinum</td>\n",
       "      <td>64308</td>\n",
       "      <td>1158.0000</td>\n",
       "      <td>1</td>\n",
       "    </tr>\n",
       "    <tr>\n",
       "      <th>1</th>\n",
       "      <td>2</td>\n",
       "      <td>Male</td>\n",
       "      <td>Rural</td>\n",
       "      <td>High School</td>\n",
       "      <td>5L-10L</td>\n",
       "      <td>0</td>\n",
       "      <td>8</td>\n",
       "      <td>5080</td>\n",
       "      <td>More than 1</td>\n",
       "      <td>A</td>\n",
       "      <td>Platinum</td>\n",
       "      <td>515400</td>\n",
       "      <td>635.0000</td>\n",
       "      <td>1</td>\n",
       "    </tr>\n",
       "    <tr>\n",
       "      <th>2</th>\n",
       "      <td>3</td>\n",
       "      <td>Male</td>\n",
       "      <td>Urban</td>\n",
       "      <td>Bachelor</td>\n",
       "      <td>5L-10L</td>\n",
       "      <td>1</td>\n",
       "      <td>8</td>\n",
       "      <td>2599</td>\n",
       "      <td>More than 1</td>\n",
       "      <td>A</td>\n",
       "      <td>Platinum</td>\n",
       "      <td>64212</td>\n",
       "      <td>324.8750</td>\n",
       "      <td>1</td>\n",
       "    </tr>\n",
       "    <tr>\n",
       "      <th>3</th>\n",
       "      <td>4</td>\n",
       "      <td>Female</td>\n",
       "      <td>Rural</td>\n",
       "      <td>High School</td>\n",
       "      <td>5L-10L</td>\n",
       "      <td>0</td>\n",
       "      <td>7</td>\n",
       "      <td>0</td>\n",
       "      <td>More than 1</td>\n",
       "      <td>A</td>\n",
       "      <td>Platinum</td>\n",
       "      <td>97920</td>\n",
       "      <td>0.0000</td>\n",
       "      <td>1</td>\n",
       "    </tr>\n",
       "    <tr>\n",
       "      <th>4</th>\n",
       "      <td>5</td>\n",
       "      <td>Male</td>\n",
       "      <td>Urban</td>\n",
       "      <td>High School</td>\n",
       "      <td>More than 10L</td>\n",
       "      <td>1</td>\n",
       "      <td>6</td>\n",
       "      <td>3508</td>\n",
       "      <td>More than 1</td>\n",
       "      <td>A</td>\n",
       "      <td>Gold</td>\n",
       "      <td>59736</td>\n",
       "      <td>584.6667</td>\n",
       "      <td>1</td>\n",
       "    </tr>\n",
       "  </tbody>\n",
       "</table>\n",
       "</div>"
      ],
      "text/plain": [
       "   id  gender   area qualification         income  marital_status  vintage  \\\n",
       "0   1    Male  Urban      Bachelor         5L-10L               1        5   \n",
       "1   2    Male  Rural   High School         5L-10L               0        8   \n",
       "2   3    Male  Urban      Bachelor         5L-10L               1        8   \n",
       "3   4  Female  Rural   High School         5L-10L               0        7   \n",
       "4   5    Male  Urban   High School  More than 10L               1        6   \n",
       "\n",
       "   claim_amount num_policies policy type_of_policy    cltv  claim_per_year  \\\n",
       "0          5790  More than 1      A       Platinum   64308       1158.0000   \n",
       "1          5080  More than 1      A       Platinum  515400        635.0000   \n",
       "2          2599  More than 1      A       Platinum   64212        324.8750   \n",
       "3             0  More than 1      A       Platinum   97920          0.0000   \n",
       "4          3508  More than 1      A           Gold   59736        584.6667   \n",
       "\n",
       "  claim_cat  \n",
       "0         1  \n",
       "1         1  \n",
       "2         1  \n",
       "3         1  \n",
       "4         1  "
      ]
     },
     "execution_count": 32,
     "metadata": {},
     "output_type": "execute_result"
    }
   ],
   "source": [
    "data.head()"
   ]
  },
  {
   "cell_type": "code",
   "execution_count": 37,
   "id": "22ff4a44",
   "metadata": {},
   "outputs": [
    {
     "data": {
      "text/plain": [
       "claim_cat  num_policies\n",
       "1          1                50868.6366\n",
       "           More than 1     120053.6658\n",
       "2          1                55777.4083\n",
       "           More than 1     141882.4986\n",
       "3          1                58710.0000\n",
       "           More than 1     150405.7059\n",
       "4          1                74954.4000\n",
       "           More than 1     153105.0000\n",
       "Name: cltv, dtype: float64"
      ]
     },
     "execution_count": 37,
     "metadata": {},
     "output_type": "execute_result"
    }
   ],
   "source": [
    "data.groupby(['claim_cat','num_policies']).mean()['cltv']"
   ]
  },
  {
   "cell_type": "code",
   "execution_count": 34,
   "id": "6bab8169",
   "metadata": {},
   "outputs": [
    {
     "data": {
      "text/html": [
       "<div>\n",
       "<style scoped>\n",
       "    .dataframe tbody tr th:only-of-type {\n",
       "        vertical-align: middle;\n",
       "    }\n",
       "\n",
       "    .dataframe tbody tr th {\n",
       "        vertical-align: top;\n",
       "    }\n",
       "\n",
       "    .dataframe thead th {\n",
       "        text-align: right;\n",
       "    }\n",
       "</style>\n",
       "<table border=\"1\" class=\"dataframe\">\n",
       "  <thead>\n",
       "    <tr style=\"text-align: right;\">\n",
       "      <th></th>\n",
       "      <th>id</th>\n",
       "      <th>gender</th>\n",
       "      <th>area</th>\n",
       "      <th>qualification</th>\n",
       "      <th>income</th>\n",
       "      <th>marital_status</th>\n",
       "      <th>vintage</th>\n",
       "      <th>claim_amount</th>\n",
       "      <th>num_policies</th>\n",
       "      <th>policy</th>\n",
       "      <th>type_of_policy</th>\n",
       "      <th>cltv</th>\n",
       "      <th>claim_per_year</th>\n",
       "      <th>claim_cat</th>\n",
       "    </tr>\n",
       "  </thead>\n",
       "  <tbody>\n",
       "    <tr>\n",
       "      <th>2461</th>\n",
       "      <td>2462</td>\n",
       "      <td>Female</td>\n",
       "      <td>Urban</td>\n",
       "      <td>High School</td>\n",
       "      <td>5L-10L</td>\n",
       "      <td>0</td>\n",
       "      <td>1</td>\n",
       "      <td>19663</td>\n",
       "      <td>More than 1</td>\n",
       "      <td>A</td>\n",
       "      <td>Gold</td>\n",
       "      <td>173976</td>\n",
       "      <td>19663.0</td>\n",
       "      <td>4</td>\n",
       "    </tr>\n",
       "    <tr>\n",
       "      <th>5522</th>\n",
       "      <td>5523</td>\n",
       "      <td>Female</td>\n",
       "      <td>Urban</td>\n",
       "      <td>High School</td>\n",
       "      <td>5L-10L</td>\n",
       "      <td>1</td>\n",
       "      <td>1</td>\n",
       "      <td>22372</td>\n",
       "      <td>1</td>\n",
       "      <td>A</td>\n",
       "      <td>Platinum</td>\n",
       "      <td>142512</td>\n",
       "      <td>22372.0</td>\n",
       "      <td>4</td>\n",
       "    </tr>\n",
       "    <tr>\n",
       "      <th>10247</th>\n",
       "      <td>10248</td>\n",
       "      <td>Female</td>\n",
       "      <td>Urban</td>\n",
       "      <td>High School</td>\n",
       "      <td>2L-5L</td>\n",
       "      <td>0</td>\n",
       "      <td>1</td>\n",
       "      <td>18295</td>\n",
       "      <td>More than 1</td>\n",
       "      <td>A</td>\n",
       "      <td>Silver</td>\n",
       "      <td>95616</td>\n",
       "      <td>18295.0</td>\n",
       "      <td>4</td>\n",
       "    </tr>\n",
       "    <tr>\n",
       "      <th>10934</th>\n",
       "      <td>10935</td>\n",
       "      <td>Female</td>\n",
       "      <td>Rural</td>\n",
       "      <td>High School</td>\n",
       "      <td>More than 10L</td>\n",
       "      <td>0</td>\n",
       "      <td>1</td>\n",
       "      <td>18198</td>\n",
       "      <td>1</td>\n",
       "      <td>A</td>\n",
       "      <td>Silver</td>\n",
       "      <td>59724</td>\n",
       "      <td>18198.0</td>\n",
       "      <td>4</td>\n",
       "    </tr>\n",
       "    <tr>\n",
       "      <th>13429</th>\n",
       "      <td>13430</td>\n",
       "      <td>Male</td>\n",
       "      <td>Rural</td>\n",
       "      <td>High School</td>\n",
       "      <td>5L-10L</td>\n",
       "      <td>0</td>\n",
       "      <td>1</td>\n",
       "      <td>18620</td>\n",
       "      <td>1</td>\n",
       "      <td>C</td>\n",
       "      <td>Platinum</td>\n",
       "      <td>59556</td>\n",
       "      <td>18620.0</td>\n",
       "      <td>4</td>\n",
       "    </tr>\n",
       "    <tr>\n",
       "      <th>14528</th>\n",
       "      <td>14529</td>\n",
       "      <td>Male</td>\n",
       "      <td>Urban</td>\n",
       "      <td>High School</td>\n",
       "      <td>5L-10L</td>\n",
       "      <td>0</td>\n",
       "      <td>1</td>\n",
       "      <td>18475</td>\n",
       "      <td>More than 1</td>\n",
       "      <td>A</td>\n",
       "      <td>Platinum</td>\n",
       "      <td>62412</td>\n",
       "      <td>18475.0</td>\n",
       "      <td>4</td>\n",
       "    </tr>\n",
       "    <tr>\n",
       "      <th>28339</th>\n",
       "      <td>28340</td>\n",
       "      <td>Male</td>\n",
       "      <td>Urban</td>\n",
       "      <td>Bachelor</td>\n",
       "      <td>2L-5L</td>\n",
       "      <td>0</td>\n",
       "      <td>1</td>\n",
       "      <td>23024</td>\n",
       "      <td>More than 1</td>\n",
       "      <td>B</td>\n",
       "      <td>Platinum</td>\n",
       "      <td>100560</td>\n",
       "      <td>23024.0</td>\n",
       "      <td>4</td>\n",
       "    </tr>\n",
       "    <tr>\n",
       "      <th>30496</th>\n",
       "      <td>30497</td>\n",
       "      <td>Male</td>\n",
       "      <td>Urban</td>\n",
       "      <td>Bachelor</td>\n",
       "      <td>More than 10L</td>\n",
       "      <td>0</td>\n",
       "      <td>1</td>\n",
       "      <td>18509</td>\n",
       "      <td>More than 1</td>\n",
       "      <td>A</td>\n",
       "      <td>Platinum</td>\n",
       "      <td>264432</td>\n",
       "      <td>18509.0</td>\n",
       "      <td>4</td>\n",
       "    </tr>\n",
       "    <tr>\n",
       "      <th>51388</th>\n",
       "      <td>51389</td>\n",
       "      <td>Male</td>\n",
       "      <td>Urban</td>\n",
       "      <td>High School</td>\n",
       "      <td>5L-10L</td>\n",
       "      <td>1</td>\n",
       "      <td>1</td>\n",
       "      <td>20094</td>\n",
       "      <td>1</td>\n",
       "      <td>C</td>\n",
       "      <td>Silver</td>\n",
       "      <td>50364</td>\n",
       "      <td>20094.0</td>\n",
       "      <td>4</td>\n",
       "    </tr>\n",
       "    <tr>\n",
       "      <th>64849</th>\n",
       "      <td>64850</td>\n",
       "      <td>Male</td>\n",
       "      <td>Urban</td>\n",
       "      <td>Bachelor</td>\n",
       "      <td>2L-5L</td>\n",
       "      <td>0</td>\n",
       "      <td>1</td>\n",
       "      <td>21219</td>\n",
       "      <td>1</td>\n",
       "      <td>A</td>\n",
       "      <td>Silver</td>\n",
       "      <td>62616</td>\n",
       "      <td>21219.0</td>\n",
       "      <td>4</td>\n",
       "    </tr>\n",
       "    <tr>\n",
       "      <th>65408</th>\n",
       "      <td>65409</td>\n",
       "      <td>Male</td>\n",
       "      <td>Urban</td>\n",
       "      <td>High School</td>\n",
       "      <td>5L-10L</td>\n",
       "      <td>1</td>\n",
       "      <td>1</td>\n",
       "      <td>18138</td>\n",
       "      <td>More than 1</td>\n",
       "      <td>A</td>\n",
       "      <td>Platinum</td>\n",
       "      <td>399480</td>\n",
       "      <td>18138.0</td>\n",
       "      <td>4</td>\n",
       "    </tr>\n",
       "    <tr>\n",
       "      <th>80862</th>\n",
       "      <td>80863</td>\n",
       "      <td>Female</td>\n",
       "      <td>Urban</td>\n",
       "      <td>High School</td>\n",
       "      <td>2L-5L</td>\n",
       "      <td>1</td>\n",
       "      <td>1</td>\n",
       "      <td>19687</td>\n",
       "      <td>More than 1</td>\n",
       "      <td>C</td>\n",
       "      <td>Gold</td>\n",
       "      <td>62748</td>\n",
       "      <td>19687.0</td>\n",
       "      <td>4</td>\n",
       "    </tr>\n",
       "    <tr>\n",
       "      <th>87071</th>\n",
       "      <td>87072</td>\n",
       "      <td>Male</td>\n",
       "      <td>Urban</td>\n",
       "      <td>High School</td>\n",
       "      <td>2L-5L</td>\n",
       "      <td>1</td>\n",
       "      <td>1</td>\n",
       "      <td>23697</td>\n",
       "      <td>More than 1</td>\n",
       "      <td>B</td>\n",
       "      <td>Silver</td>\n",
       "      <td>65616</td>\n",
       "      <td>23697.0</td>\n",
       "      <td>4</td>\n",
       "    </tr>\n",
       "  </tbody>\n",
       "</table>\n",
       "</div>"
      ],
      "text/plain": [
       "          id  gender   area qualification         income  marital_status  \\\n",
       "2461    2462  Female  Urban   High School         5L-10L               0   \n",
       "5522    5523  Female  Urban   High School         5L-10L               1   \n",
       "10247  10248  Female  Urban   High School          2L-5L               0   \n",
       "10934  10935  Female  Rural   High School  More than 10L               0   \n",
       "13429  13430    Male  Rural   High School         5L-10L               0   \n",
       "14528  14529    Male  Urban   High School         5L-10L               0   \n",
       "28339  28340    Male  Urban      Bachelor          2L-5L               0   \n",
       "30496  30497    Male  Urban      Bachelor  More than 10L               0   \n",
       "51388  51389    Male  Urban   High School         5L-10L               1   \n",
       "64849  64850    Male  Urban      Bachelor          2L-5L               0   \n",
       "65408  65409    Male  Urban   High School         5L-10L               1   \n",
       "80862  80863  Female  Urban   High School          2L-5L               1   \n",
       "87071  87072    Male  Urban   High School          2L-5L               1   \n",
       "\n",
       "       vintage  claim_amount num_policies policy type_of_policy    cltv  \\\n",
       "2461         1         19663  More than 1      A           Gold  173976   \n",
       "5522         1         22372            1      A       Platinum  142512   \n",
       "10247        1         18295  More than 1      A         Silver   95616   \n",
       "10934        1         18198            1      A         Silver   59724   \n",
       "13429        1         18620            1      C       Platinum   59556   \n",
       "14528        1         18475  More than 1      A       Platinum   62412   \n",
       "28339        1         23024  More than 1      B       Platinum  100560   \n",
       "30496        1         18509  More than 1      A       Platinum  264432   \n",
       "51388        1         20094            1      C         Silver   50364   \n",
       "64849        1         21219            1      A         Silver   62616   \n",
       "65408        1         18138  More than 1      A       Platinum  399480   \n",
       "80862        1         19687  More than 1      C           Gold   62748   \n",
       "87071        1         23697  More than 1      B         Silver   65616   \n",
       "\n",
       "       claim_per_year claim_cat  \n",
       "2461          19663.0         4  \n",
       "5522          22372.0         4  \n",
       "10247         18295.0         4  \n",
       "10934         18198.0         4  \n",
       "13429         18620.0         4  \n",
       "14528         18475.0         4  \n",
       "28339         23024.0         4  \n",
       "30496         18509.0         4  \n",
       "51388         20094.0         4  \n",
       "64849         21219.0         4  \n",
       "65408         18138.0         4  \n",
       "80862         19687.0         4  \n",
       "87071         23697.0         4  "
      ]
     },
     "execution_count": 34,
     "metadata": {},
     "output_type": "execute_result"
    }
   ],
   "source": [
    "data[data['claim_cat']=='4']"
   ]
  },
  {
   "cell_type": "markdown",
   "id": "019fab1c",
   "metadata": {},
   "source": [
    "<a id = Section7></a>\n",
    "## **7. Post Data Processing & Analysis**"
   ]
  },
  {
   "cell_type": "markdown",
   "id": "b935e4e4",
   "metadata": {},
   "source": [
    "<a id = Section701></a>\n",
    "### **7.1 Encoding Categorical Data**"
   ]
  },
  {
   "cell_type": "code",
   "execution_count": null,
   "id": "de024ed2",
   "metadata": {},
   "outputs": [],
   "source": [
    "# Creating dummy variable of the Type column\n",
    "data = pd.get_dummies(data, drop_first=True)\n",
    "data.head()"
   ]
  },
  {
   "cell_type": "markdown",
   "id": "a2a41081",
   "metadata": {},
   "source": [
    "<a id = Section704></a>\n",
    "### **7.3 Data Splitting**"
   ]
  },
  {
   "cell_type": "markdown",
   "id": "18d5e20a",
   "metadata": {},
   "source": [
    "- Now, we will **split** the dataset into **Train** and **Test** subsets.\n",
    "\n",
    "- We will use **80%** data for **training** and the remaining **20%** data for **testing** our models."
   ]
  },
  {
   "cell_type": "code",
   "execution_count": null,
   "id": "ace08002",
   "metadata": {},
   "outputs": [],
   "source": [
    "# Creating the feature matrix by removing the target variable\n",
    "X = data.drop(['cltv','id'], axis=1)\n",
    "X.head()\n"
   ]
  },
  {
   "cell_type": "code",
   "execution_count": null,
   "id": "3726651e",
   "metadata": {},
   "outputs": [],
   "source": [
    "# Creating the target vector\n",
    "y = data['cltv']\n",
    "y.head()"
   ]
  },
  {
   "cell_type": "code",
   "execution_count": null,
   "id": "9923eb75",
   "metadata": {},
   "outputs": [],
   "source": [
    "s = MinMaxScaler()\n",
    "sc = s.fit_transform(X[['claim_amount','claim_per_year']])\n",
    "sc = pd.DataFrame(sc ,columns=['claim_amount','claim_per_year'])"
   ]
  },
  {
   "cell_type": "code",
   "execution_count": null,
   "id": "2c3d5cd5",
   "metadata": {},
   "outputs": [],
   "source": [
    "X =X.drop(labels=['claim_amount','claim_per_year'], axis=1)\n",
    "X = pd.concat(objs=[X,sc], axis=1 ) "
   ]
  },
  {
   "cell_type": "code",
   "execution_count": null,
   "id": "b70d208d",
   "metadata": {},
   "outputs": [],
   "source": [
    "X.head()"
   ]
  },
  {
   "cell_type": "code",
   "execution_count": null,
   "id": "cdfdb8e5",
   "metadata": {},
   "outputs": [],
   "source": [
    "# Using scikit-learn's train_test_split function to split the dataset into train and test sets.\n",
    "# 80% of the data will be in the train set and 20% in the test set, as specified by test_size=0.2\n",
    "X_train, X_test, y_train, y_test = train_test_split(X, y, test_size=0.2, random_state=1)"
   ]
  },
  {
   "cell_type": "code",
   "execution_count": null,
   "id": "36c72571",
   "metadata": {},
   "outputs": [],
   "source": [
    "# Checking the shapes of the training and test sets.\n",
    "print('Training Data Shape:', X_train.shape, y_train.shape)\n",
    "print('Testing Data Shape:', X_test.shape, y_test.shape)"
   ]
  },
  {
   "cell_type": "markdown",
   "id": "fa6d8ce3",
   "metadata": {},
   "source": [
    "<a id = Section8></a>\n",
    "## **8. Model Development & Evaluation**"
   ]
  },
  {
   "cell_type": "markdown",
   "id": "1dca92f7",
   "metadata": {},
   "source": [
    "- In this section, we will be **building** our Machine Learning models and fitting them with the training data.\n",
    "\n",
    "- We will be building models using:\n",
    "\n",
    "  - **All** the **features** of the training set.\n",
    "\n",
    "  - The most **important features** of the training set, according to the Random Forest algorithm.\n",
    "\n",
    "- We will use **K-fold Cross Validation** to validate our models and select the best one."
   ]
  },
  {
   "cell_type": "markdown",
   "id": "29448e54",
   "metadata": {},
   "source": [
    "- We are creating a **helper function** `display_scores` that will help us in **displaying** our *K-fold cross validation* **scores**."
   ]
  },
  {
   "cell_type": "code",
   "execution_count": null,
   "id": "483c9c20",
   "metadata": {},
   "outputs": [],
   "source": [
    "# A helper function to display the scores along with the mean and standard deviation of scores.\n",
    "def display_scores(scores):\n",
    "    scores_rmse = np.sqrt(-scores)\n",
    "    print('Scores:', scores_rmse)\n",
    "    print('Mean:', scores_rmse.mean())\n",
    "    print('Standard Deviation:', scores_rmse.std())"
   ]
  },
  {
   "cell_type": "markdown",
   "id": "7529fc83",
   "metadata": {},
   "source": [
    "<a id = Section801></a>\n",
    "### **8.1 Baseline Models**"
   ]
  },
  {
   "cell_type": "markdown",
   "id": "c864d51c",
   "metadata": {},
   "source": [
    "- In the baseline models, we will be using **all** the **features** of the dataset in our models.\n",
    "\n",
    "- We will be performing **5-fold** cross-validation to **validate** our models."
   ]
  },
  {
   "cell_type": "markdown",
   "id": "b431fc8b",
   "metadata": {},
   "source": [
    "<a id = Section80101></a>\n",
    "#### **8.1.1 Linear Regression Model**"
   ]
  },
  {
   "cell_type": "code",
   "execution_count": null,
   "id": "455d979c",
   "metadata": {},
   "outputs": [],
   "source": [
    "base_lr = LinearRegression()"
   ]
  },
  {
   "cell_type": "code",
   "execution_count": null,
   "id": "915c1d6f",
   "metadata": {},
   "outputs": [],
   "source": [
    "# Performing K-fold Cross-validation for 5 folds.\n",
    "scores = cross_val_score(estimator=base_lr, X=X_train, y=y_train, cv=5, scoring='neg_mean_squared_error')"
   ]
  },
  {
   "cell_type": "code",
   "execution_count": null,
   "id": "91db7b36",
   "metadata": {},
   "outputs": [],
   "source": [
    "# Displaying the RMSE scores with display_score helper function.\n",
    "display_scores(scores)"
   ]
  },
  {
   "cell_type": "code",
   "execution_count": null,
   "id": "bf04a494",
   "metadata": {},
   "outputs": [],
   "source": [
    "base_lr.fit(X_train,y_train)\n",
    "train_pred = base_lr.predict(X_train)\n",
    "test_pred = base_lr.predict(X_test)\n",
    "\n",
    "pd.DataFrame({'Actual Test Set Values': y_test[0:5].values, 'Predicted Test Set Values': test_pred[0:5]})\n"
   ]
  },
  {
   "cell_type": "code",
   "execution_count": null,
   "id": "4bedcc23",
   "metadata": {},
   "outputs": [],
   "source": [
    "X_test.head()"
   ]
  },
  {
   "cell_type": "code",
   "execution_count": null,
   "id": "886bfa7a",
   "metadata": {},
   "outputs": [],
   "source": [
    "data.iloc[8413]"
   ]
  },
  {
   "cell_type": "markdown",
   "id": "680a9b59",
   "metadata": {},
   "source": [
    "<a id = Section80102></a>\n",
    "#### **8.1.2 Decision Tree Model**"
   ]
  },
  {
   "cell_type": "code",
   "execution_count": null,
   "id": "2a1c3c46",
   "metadata": {},
   "outputs": [],
   "source": [
    "base_dt = DecisionTreeRegressor(random_state=0)"
   ]
  },
  {
   "cell_type": "code",
   "execution_count": null,
   "id": "f1d51630",
   "metadata": {},
   "outputs": [],
   "source": [
    "# Performing K-fold Cross-validation for 5 folds.\n",
    "scores = cross_val_score(estimator=base_dt, X=X_train, y=y_train, cv=5, scoring='neg_mean_squared_error')"
   ]
  },
  {
   "cell_type": "code",
   "execution_count": null,
   "id": "32b3f6c5",
   "metadata": {},
   "outputs": [],
   "source": [
    "# Displaying the RMSE scores with display_score helper function.\n",
    "display_scores(scores)"
   ]
  },
  {
   "cell_type": "code",
   "execution_count": null,
   "id": "76ddf53d",
   "metadata": {},
   "outputs": [],
   "source": [
    "base_dt.fit(X_train,y_train)\n",
    "train_pred = base_dt.predict(X_train)\n",
    "test_pred = base_dt.predict(X_test)\n",
    "pd.DataFrame({'Actual Test Set Values': y_test[0:5].values, 'Predicted Test Set Values': test_pred[0:5]})\n"
   ]
  },
  {
   "cell_type": "code",
   "execution_count": null,
   "id": "5a934c96",
   "metadata": {},
   "outputs": [],
   "source": []
  },
  {
   "cell_type": "markdown",
   "id": "98d7a8f9",
   "metadata": {},
   "source": [
    "<a id = Section80103></a>\n",
    "#### **8.1.3 Random Forest Model**"
   ]
  },
  {
   "cell_type": "code",
   "execution_count": null,
   "id": "c7de6d25",
   "metadata": {},
   "outputs": [],
   "source": [
    "# Creating a Random Forest model.\n",
    "base_rf = RandomForestRegressor(n_estimators=10, random_state=0, n_jobs=-1)"
   ]
  },
  {
   "cell_type": "code",
   "execution_count": null,
   "id": "5d867906",
   "metadata": {},
   "outputs": [],
   "source": [
    "%%time\n",
    "# Performing K-fold Cross-validation for 5 folds.\n",
    "scores = cross_val_score(estimator=base_rf, X=X_train, y=y_train, cv=5, scoring='neg_mean_squared_error')"
   ]
  },
  {
   "cell_type": "code",
   "execution_count": null,
   "id": "20b0e0a8",
   "metadata": {},
   "outputs": [],
   "source": [
    "# Displaying the RMSE scores with display_score helper function.\n",
    "display_scores(scores)"
   ]
  },
  {
   "cell_type": "code",
   "execution_count": null,
   "id": "f831f438",
   "metadata": {},
   "outputs": [],
   "source": [
    "base_rf.fit(X_train,y_train)\n",
    "train_pred = base_rf.predict(X_train)\n",
    "test_pred = base_rf.predict(X_test)\n",
    "\n",
    "pd.DataFrame({'Actual Test Set Values': y_test[0:5].values, 'Predicted Test Set Values': test_pred[0:5]})\n"
   ]
  },
  {
   "cell_type": "markdown",
   "id": "6bca6389",
   "metadata": {},
   "source": [
    "#### **Checking Feature Importances**"
   ]
  },
  {
   "cell_type": "code",
   "execution_count": null,
   "id": "f589407f",
   "metadata": {},
   "outputs": [],
   "source": [
    "# Fitting the baseline Random Forest model on the entire train set to obtain the feature importances of each feature. \n",
    "base_rf.fit(X_train, y_train)"
   ]
  },
  {
   "cell_type": "code",
   "execution_count": null,
   "id": "08b064aa",
   "metadata": {},
   "outputs": [],
   "source": [
    "# Checking the feature importances of various features.\n",
    "# Sorting the importances by descending order (lowest importance at the bottom).\n",
    "for score, name in sorted(zip(base_rf.feature_importances_, X_train.columns), reverse=True):\n",
    "    print('Feature importance of', name, ':', score*100, '%')"
   ]
  },
  {
   "cell_type": "code",
   "execution_count": null,
   "id": "93877259",
   "metadata": {},
   "outputs": [],
   "source": [
    "# Plotting the Feature Importance of each feature.\n",
    "plt.figure(figsize=(12, 7))\n",
    "plt.bar(X_train.columns, base_rf.feature_importances_*100, color='green')\n",
    "plt.xlabel('Features', fontsize=14)\n",
    "plt.ylabel('Importance', fontsize=14)\n",
    "plt.xticks(rotation=90)\n",
    "plt.title('Feature Importance of each Feature', fontsize=16)"
   ]
  },
  {
   "cell_type": "markdown",
   "id": "18a7f55d",
   "metadata": {},
   "source": []
  },
  {
   "cell_type": "code",
   "execution_count": null,
   "id": "145f3d0e",
   "metadata": {},
   "outputs": [],
   "source": [
    "from sklearn.ensemble import AdaBoostRegressor, GradientBoostingRegressor"
   ]
  },
  {
   "cell_type": "code",
   "execution_count": null,
   "id": "44445637",
   "metadata": {},
   "outputs": [],
   "source": [
    "base_ad = AdaBoostRegressor(base_estimator=base_lr, learning_rate=0.1, random_state=0)"
   ]
  },
  {
   "cell_type": "code",
   "execution_count": null,
   "id": "556662b8",
   "metadata": {},
   "outputs": [],
   "source": [
    "%%time\n",
    "# Performing K-fold Cross-validation for 5 folds.\n",
    "scores = cross_val_score(estimator=base_ad, X=X_train, y=y_train, cv=5, scoring='neg_mean_squared_error')"
   ]
  },
  {
   "cell_type": "code",
   "execution_count": null,
   "id": "42d1c4cd",
   "metadata": {},
   "outputs": [],
   "source": [
    "# Displaying the RMSE scores with display_score helper function.\n",
    "display_scores(scores)"
   ]
  },
  {
   "cell_type": "code",
   "execution_count": null,
   "id": "24d1953b",
   "metadata": {},
   "outputs": [],
   "source": [
    "base_gb = GradientBoostingRegressor(max_depth=6, random_state=0)"
   ]
  },
  {
   "cell_type": "code",
   "execution_count": null,
   "id": "789f46e5",
   "metadata": {},
   "outputs": [],
   "source": [
    "%%time\n",
    "# Performing K-fold Cross-validation for 5 folds.\n",
    "scores = cross_val_score(estimator=base_gb, X=X_train, y=y_train, cv=5, scoring='neg_mean_squared_error')"
   ]
  },
  {
   "cell_type": "code",
   "execution_count": null,
   "id": "77821450",
   "metadata": {},
   "outputs": [],
   "source": [
    "# Displaying the RMSE scores with display_score helper function.\n",
    "display_scores(scores)"
   ]
  },
  {
   "cell_type": "code",
   "execution_count": null,
   "id": "6a51ffc1",
   "metadata": {},
   "outputs": [],
   "source": [
    "from xgboost import XGBRegressor"
   ]
  },
  {
   "cell_type": "code",
   "execution_count": null,
   "id": "032e8c5c",
   "metadata": {},
   "outputs": [],
   "source": []
  },
  {
   "cell_type": "markdown",
   "id": "d0accac6",
   "metadata": {},
   "source": [
    "<a id = Section802></a>\n",
    "### **8.2 Essential Feature Models**"
   ]
  },
  {
   "cell_type": "markdown",
   "id": "e34b2b72",
   "metadata": {},
   "source": [
    "- In the essential feature models, we will be using only the **most important features** of the dataset in our models.\n",
    "\n",
    "- The features are selected on the basis of the **feature importance** obtained from the Random Forest model.\n",
    "\n",
    "- We will be performing **5-fold** cross-validation to **validate** our models."
   ]
  },
  {
   "cell_type": "code",
   "execution_count": null,
   "id": "90e1c9fe",
   "metadata": {},
   "outputs": [],
   "source": [
    "X_train_essential = X_train[['claim_amount', 'num_policies_More than 1', 'vintage', 'qualification_High School','qualification_High School', 'type_of_policy_Platinum', 'gender_Male', 'income_5L-10L','type_of_policy_Silver', 'income_More than 10L','claim_per_year' ]]\n",
    "X_train_essential.head()"
   ]
  },
  {
   "cell_type": "markdown",
   "id": "987c6ad6",
   "metadata": {},
   "source": [
    "<a id = Section80201></a>\n",
    "#### **8.2.1 Linear Regression Model**"
   ]
  },
  {
   "cell_type": "code",
   "execution_count": null,
   "id": "382ada8c",
   "metadata": {},
   "outputs": [],
   "source": [
    "essential_lr = LinearRegression()"
   ]
  },
  {
   "cell_type": "code",
   "execution_count": null,
   "id": "e53a3a66",
   "metadata": {},
   "outputs": [],
   "source": [
    "# Performing K-fold Cross-validation for 5 folds.\n",
    "scores = cross_val_score(estimator=essential_lr, X=X_train_essential, y=y_train, cv=5, scoring='neg_mean_squared_error')"
   ]
  },
  {
   "cell_type": "code",
   "execution_count": null,
   "id": "a7d0adb0",
   "metadata": {},
   "outputs": [],
   "source": [
    "# Displaying the RMSE scores with display_score helper function.\n",
    "display_scores(scores)"
   ]
  },
  {
   "cell_type": "markdown",
   "id": "6587db1e",
   "metadata": {},
   "source": [
    "<a id = Section80202></a>\n",
    "#### **8.2.2 Decision Tree Model**"
   ]
  },
  {
   "cell_type": "code",
   "execution_count": null,
   "id": "30a165e0",
   "metadata": {},
   "outputs": [],
   "source": [
    "essential_dt = DecisionTreeRegressor(random_state=0)"
   ]
  },
  {
   "cell_type": "code",
   "execution_count": null,
   "id": "84f77219",
   "metadata": {},
   "outputs": [],
   "source": [
    "# Performing K-fold Cross-validation for 5 folds.\n",
    "scores = cross_val_score(estimator=essential_dt, X=X_train_essential, y=y_train, cv=5, scoring='neg_mean_squared_error')"
   ]
  },
  {
   "cell_type": "code",
   "execution_count": null,
   "id": "148a2846",
   "metadata": {},
   "outputs": [],
   "source": [
    "# Displaying the RMSE scores with display_score helper function.\n",
    "display_scores(scores)"
   ]
  },
  {
   "cell_type": "markdown",
   "id": "5985fea6",
   "metadata": {},
   "source": [
    "<a id = Section80203></a>\n",
    "#### **8.2.3 Random Forest Model**"
   ]
  },
  {
   "cell_type": "code",
   "execution_count": null,
   "id": "8660f758",
   "metadata": {},
   "outputs": [],
   "source": [
    "# Creating a Random Forest model.\n",
    "essential_rf = RandomForestRegressor(n_estimators=10, random_state=0, n_jobs=-1)"
   ]
  },
  {
   "cell_type": "code",
   "execution_count": null,
   "id": "bf186311",
   "metadata": {},
   "outputs": [],
   "source": [
    "%%time\n",
    "# Performing K-fold Cross-validation for 5 folds.\n",
    "scores = cross_val_score(estimator=essential_rf, X=X_train_essential, y=y_train, cv=5, scoring='neg_mean_squared_error')"
   ]
  },
  {
   "cell_type": "code",
   "execution_count": null,
   "id": "85f8ab19",
   "metadata": {},
   "outputs": [],
   "source": [
    "# Displaying the RMSE scores with display_score helper function.\n",
    "display_scores(scores)"
   ]
  },
  {
   "cell_type": "markdown",
   "id": "e94e9f1a",
   "metadata": {},
   "source": [
    "**Observations:**\n",
    "\n",
    "- The mean **RMSE** score for the Essential Feature Random Forest Model is \n",
    "\n",
    "- Our model has improved even though we are using only a **subset** (i. e. 6 features) of the features from the entire dataset.\n",
    "\n",
    "- It took **53 seconds** to perform 5-fold cross-validation on our Random Forest model having 10 trees.\n",
    "\n",
    "- The **training time** has **reduced** significantly and the **performance** has **improved**.\n",
    "\n",
    "- The RMSE is still significantly **lower** than the Decision Tree model."
   ]
  },
  {
   "cell_type": "markdown",
   "id": "9ac342a0",
   "metadata": {},
   "source": [
    "#### **Model Comparision**\n",
    "\n",
    "**Baseline Models**\n",
    "\n",
    "| Model | RMSE Score |\n",
    "| :--: | :--: |\n",
    "| **Linear Regression** | **21612.39** |\n",
    "| **Decision Tree** | **5322.68** |\n",
    "| **Random Forest** | **3997.32** |\n",
    "\n",
    "<br>\n",
    "\n",
    "**Essential Feature Models**\n",
    "\n",
    "| Model | RMSE Score |\n",
    "| :--: | :--: |\n",
    "| **Linear Regression** | **21669.89** |\n",
    "| **Decision Tree** | **4644.98** |\n",
    "| **Random Forest** | **3686.24** |"
   ]
  },
  {
   "cell_type": "markdown",
   "id": "fdb45ec0",
   "metadata": {},
   "source": [
    "<a id = Section803></a>\n",
    "### **8.3 Hyperparameter Tuning of Model**"
   ]
  },
  {
   "cell_type": "code",
   "execution_count": null,
   "id": "a533c5f0",
   "metadata": {},
   "outputs": [],
   "source": [
    "param_grid = [{'n_estimators': [60,70,80,90], 'max_depth': [5,7,9], 'max_features': ['auto', 2, 4,6,8]}]"
   ]
  },
  {
   "cell_type": "code",
   "execution_count": null,
   "id": "7e38f105",
   "metadata": {},
   "outputs": [],
   "source": [
    "temp_rf = RandomForestRegressor(random_state=0, n_jobs=-1)"
   ]
  },
  {
   "cell_type": "code",
   "execution_count": null,
   "id": "31a2597e",
   "metadata": {},
   "outputs": [],
   "source": [
    "grid_search = GridSearchCV(estimator=temp_rf, param_grid=param_grid, scoring='neg_mean_squared_error', cv=5, n_jobs=-1)"
   ]
  },
  {
   "cell_type": "code",
   "execution_count": null,
   "id": "0a5317ea",
   "metadata": {},
   "outputs": [],
   "source": [
    "%%time\n",
    "grid_search.fit(X_train_essential, y_train)"
   ]
  },
  {
   "cell_type": "code",
   "execution_count": null,
   "id": "aaf89ff0",
   "metadata": {},
   "outputs": [],
   "source": [
    "# Calculating the best RMSE score found by Grid Search \n",
    "np.sqrt(-grid_search.best_score_)"
   ]
  },
  {
   "cell_type": "code",
   "execution_count": null,
   "id": "da3f8950",
   "metadata": {},
   "outputs": [],
   "source": [
    "# The hyperparameter values which provide us the best RMSE score\n",
    "grid_search.best_params_"
   ]
  },
  {
   "cell_type": "markdown",
   "id": "06e021f9",
   "metadata": {},
   "source": [
    "<a id = Section804></a>\n",
    "### **8.4 Final Model**"
   ]
  },
  {
   "cell_type": "markdown",
   "id": "b01d1eb5",
   "metadata": {},
   "source": [
    "- We found out the **best hyperparameter combinations** for our Random Forest model.\n",
    "\n",
    "- Now, we will use the model with those hyperparameters as our **final model**.\n",
    "\n",
    "- Using this final model, we will make **predictions** on our test set."
   ]
  },
  {
   "cell_type": "markdown",
   "id": "a452afdd",
   "metadata": {},
   "source": [
    "**Creating the Final Model**"
   ]
  },
  {
   "cell_type": "code",
   "execution_count": null,
   "id": "bbed1270",
   "metadata": {},
   "outputs": [],
   "source": [
    "# Creating the final random forest model from the grid search's best estimator.\n",
    "final_rf = grid_search.best_estimator_"
   ]
  },
  {
   "cell_type": "markdown",
   "id": "3afead9d",
   "metadata": {},
   "source": [
    "**Fitting the Final Model**"
   ]
  },
  {
   "cell_type": "code",
   "execution_count": null,
   "id": "2a8fdc5d",
   "metadata": {},
   "outputs": [],
   "source": [
    "# Fitting the final model with training set\n",
    "final_rf.fit(X_train_essential, y_train)"
   ]
  },
  {
   "cell_type": "markdown",
   "id": "0b21cf66",
   "metadata": {},
   "source": [
    "- After fitting the final model with the training data, we are ready to make **predictions** on the test set. "
   ]
  },
  {
   "cell_type": "markdown",
   "id": "106a27ac",
   "metadata": {},
   "source": [
    "**Removing Non-Essential Features from the Test Set**"
   ]
  },
  {
   "cell_type": "markdown",
   "id": "0f649c29",
   "metadata": {},
   "source": [
    "- We trained our model on only the most important features of the dataset.\n",
    "\n",
    "- So, we need to **remove** the **non-important features** from our test set as well.\n",
    "\n",
    "- If we don't remove the non-essential features our model will give an **error** while making predictions due to the **difference in shapes** of training and testing sets."
   ]
  },
  {
   "cell_type": "code",
   "execution_count": null,
   "id": "98dd3a1c",
   "metadata": {},
   "outputs": [],
   "source": [
    "# Creating the test set with only the essential features\n",
    "X_test_essential = X_test[['claim_amount', 'num_policies_More than 1', 'vintage', 'qualification_High School','qualification_High School', 'type_of_policy_Platinum', 'gender_Male', 'income_5L-10L','type_of_policy_Silver', 'income_More than 10L','claim_per_year' ]]\n",
    "X_test_essential.head()"
   ]
  },
  {
   "cell_type": "markdown",
   "id": "3a3b305d",
   "metadata": {},
   "source": [
    "**Making Predictions**\n",
    "\n",
    "- Now, we will make **predictions** on both our training and testing sets."
   ]
  },
  {
   "cell_type": "code",
   "execution_count": null,
   "id": "80cc5540",
   "metadata": {},
   "outputs": [],
   "source": [
    "# Making predictions on the train set\n",
    "y_train_pred = final_rf.predict(X_train_essential)"
   ]
  },
  {
   "cell_type": "code",
   "execution_count": null,
   "id": "05963f40",
   "metadata": {},
   "outputs": [],
   "source": [
    "# Making predictions on the test set\n",
    "y_test_pred = final_rf.predict(X_test_essential)"
   ]
  },
  {
   "cell_type": "code",
   "execution_count": null,
   "id": "b040f778",
   "metadata": {},
   "outputs": [],
   "source": [
    "pd.DataFrame({'Actual Test Set Values': y_test[0:5].values, 'Predicted Test Set Values': y_test_pred[0:5]})"
   ]
  },
  {
   "cell_type": "markdown",
   "id": "ea16fd21",
   "metadata": {},
   "source": [
    "**Calculating the RMSE Score**"
   ]
  },
  {
   "cell_type": "code",
   "execution_count": null,
   "id": "5d7409dc",
   "metadata": {},
   "outputs": [],
   "source": [
    "# Estimating RMSE on Train & Test Data\n",
    "print('RMSE for Train Set:', np.round(np.sqrt(mean_squared_error(y_train, y_train_pred)), decimals=2))\n",
    "print('RMSE for Test Set:', np.round(np.sqrt(mean_squared_error(y_test, y_test_pred)), decimals=2))"
   ]
  },
  {
   "cell_type": "markdown",
   "id": "cc065d2d",
   "metadata": {},
   "source": [
    "**Calculating R-Squared Value**"
   ]
  },
  {
   "cell_type": "code",
   "execution_count": null,
   "id": "97b73a03",
   "metadata": {},
   "outputs": [],
   "source": [
    "# Estimating R-Squared on Train & Test Data\n",
    "print('R-Squared for Train Set:', np.round(r2_score(y_train, y_train_pred), decimals=2))\n",
    "print('R-Squared for Test Set:', np.round(r2_score(y_test, y_test_pred), decimals=2))"
   ]
  },
  {
   "cell_type": "code",
   "execution_count": null,
   "id": "42f5fc19",
   "metadata": {},
   "outputs": [],
   "source": [
    "# Creating a helper function to plot the actual and predicted values for train and test sets.\n",
    "def plot_score(y_train, y_train_pred, y_test, y_test_pred):\n",
    "  '''\n",
    "  Plot acutal and predicted values for train & test data\n",
    "  y_train: actual y_train values\n",
    "  y_train_pred: predicted values of y_train\n",
    "  y_test: actual y_test values\n",
    "  y_test_pred: predicted values of y_test\n",
    "  '''\n",
    "  plt.figure(figsize=[16, 6])\n",
    "  plt.subplot(1, 2, 1)\n",
    "  sns.regplot(x=y_train, y=y_train_pred, color='red')\n",
    "  plt.xlabel('Actual', size=14)\n",
    "  plt.ylabel('Predicted', size=14)\n",
    "  plt.title('For Train Data', size=16)\n",
    "\n",
    "  plt.subplot(1, 2, 2)\n",
    "  sns.regplot(x=y_test, y=y_test_pred, color='green')\n",
    "  plt.xlabel('Actual', size=14)\n",
    "  plt.ylabel('Predicted', size=14)\n",
    "  plt.title('For Test Data', size=16)\n",
    "  plt.show()"
   ]
  },
  {
   "cell_type": "code",
   "execution_count": null,
   "id": "1376c2a1",
   "metadata": {},
   "outputs": [],
   "source": [
    "# Plotting Actual vs Predicted Values\n",
    "# This will take some time\n",
    "plot_score(y_train, y_train_pred, y_test, y_test_pred)"
   ]
  },
  {
   "cell_type": "markdown",
   "id": "541191b9",
   "metadata": {},
   "source": [
    "<a id = Section9></a>\n",
    "## **9. Conclusion**"
   ]
  },
  {
   "cell_type": "code",
   "execution_count": null,
   "id": "59c81ed0",
   "metadata": {},
   "outputs": [],
   "source": [
    "y_test = pd.read_csv(\"test_koRSKBP.csv\")\n",
    "y_test['claim_per_year'] = creat(y_test)\n",
    "y_test = pd.get_dummies(y_test, drop_first=True)\n",
    "y_test = y_test.drop(['id'], axis=1)\n",
    "sc = s.transform(y_test[['claim_amount','claim_per_year']])\n",
    "sc = pd.DataFrame(sc ,columns=['claim_amount','claim_per_year'])\n",
    "X =X.drop(labels=['claim_amount','claim_per_year'], axis=1)\n",
    "X = pd.concat(objs=[X,sc], axis=1 ) "
   ]
  },
  {
   "cell_type": "code",
   "execution_count": null,
   "id": "6027ac54",
   "metadata": {},
   "outputs": [],
   "source": [
    "y_test_pred = final_rf.predict(y_test[['claim_amount', 'num_policies_More than 1', 'vintage', 'qualification_High School','qualification_High School', \n",
    "                                       'type_of_policy_Platinum', 'gender_Male', 'income_5L-10L','type_of_policy_Silver',\n",
    "                                       'income_More than 10L','claim_per_year'] ])"
   ]
  },
  {
   "cell_type": "code",
   "execution_count": null,
   "id": "0893ce06",
   "metadata": {},
   "outputs": [],
   "source": [
    "print(y_test_pred)"
   ]
  },
  {
   "cell_type": "code",
   "execution_count": null,
   "id": "24d49860",
   "metadata": {},
   "outputs": [],
   "source": []
  }
 ],
 "metadata": {
  "kernelspec": {
   "display_name": "Python 3 (ipykernel)",
   "language": "python",
   "name": "python3"
  },
  "language_info": {
   "codemirror_mode": {
    "name": "ipython",
    "version": 3
   },
   "file_extension": ".py",
   "mimetype": "text/x-python",
   "name": "python",
   "nbconvert_exporter": "python",
   "pygments_lexer": "ipython3",
   "version": "3.9.7"
  }
 },
 "nbformat": 4,
 "nbformat_minor": 5
}
